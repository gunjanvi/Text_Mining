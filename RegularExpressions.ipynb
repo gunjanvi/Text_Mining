{
 "cells": [
  {
   "cell_type": "markdown",
   "metadata": {},
   "source": [
    "# <center>Regular Expressions</center>\n",
    "### Documentation - https://docs.python.org/3.7/howto/regex.html"
   ]
  },
  {
   "cell_type": "markdown",
   "metadata": {},
   "source": [
    "\"re\" module primarily used for string searching and manipulation,also frequently for web scraping"
   ]
  },
  {
   "cell_type": "code",
   "execution_count": 1,
   "metadata": {},
   "outputs": [],
   "source": [
    "import re"
   ]
  },
  {
   "cell_type": "markdown",
   "metadata": {},
   "source": [
    "The \"re\" package provides several methods to actually perform queries or manipulations on an input string."
   ]
  },
  {
   "cell_type": "markdown",
   "metadata": {},
   "source": [
    "### re.match()"
   ]
  },
  {
   "cell_type": "code",
   "execution_count": 2,
   "metadata": {},
   "outputs": [
    {
     "name": "stdout",
     "output_type": "stream",
     "text": [
      "<_sre.SRE_Match object; span=(0, 1), match='a'>\n"
     ]
    }
   ],
   "source": [
    "print(re.match('a','abcdef')) # match always checks from the starting character"
   ]
  },
  {
   "cell_type": "code",
   "execution_count": 3,
   "metadata": {},
   "outputs": [
    {
     "name": "stdout",
     "output_type": "stream",
     "text": [
      "<_sre.SRE_Match object; span=(0, 2), match='ab'>\n"
     ]
    }
   ],
   "source": [
    "print(re.match('ab','abcdef'))"
   ]
  },
  {
   "cell_type": "code",
   "execution_count": 4,
   "metadata": {},
   "outputs": [
    {
     "name": "stdout",
     "output_type": "stream",
     "text": [
      "None\n"
     ]
    }
   ],
   "source": [
    "print(re.match('bc','abcdef'))"
   ]
  },
  {
   "cell_type": "markdown",
   "metadata": {},
   "source": [
    "### re.search()"
   ]
  },
  {
   "cell_type": "code",
   "execution_count": 5,
   "metadata": {},
   "outputs": [
    {
     "data": {
      "text/plain": [
       "<_sre.SRE_Match object; span=(9, 11), match='ij'>"
      ]
     },
     "execution_count": 5,
     "metadata": {},
     "output_type": "execute_result"
    }
   ],
   "source": [
    "re.search('ij','abcdef ghij')"
   ]
  },
  {
   "cell_type": "code",
   "execution_count": 6,
   "metadata": {},
   "outputs": [
    {
     "data": {
      "text/plain": [
       "<_sre.SRE_Match object; span=(19, 22), match='six'>"
      ]
     },
     "execution_count": 6,
     "metadata": {},
     "output_type": "execute_result"
    }
   ],
   "source": [
    "re.search('six','Rohit sharma hit 6 sixes yesterday, what a man!')"
   ]
  },
  {
   "cell_type": "code",
   "execution_count": 7,
   "metadata": {},
   "outputs": [],
   "source": [
    "re.search('5','Rohit sharma hit 6 sixes yesterday, what a man!')"
   ]
  },
  {
   "cell_type": "markdown",
   "metadata": {},
   "source": [
    "### re.findall()"
   ]
  },
  {
   "cell_type": "code",
   "execution_count": 8,
   "metadata": {},
   "outputs": [
    {
     "data": {
      "text/plain": [
       "['hit', 'hit']"
      ]
     },
     "execution_count": 8,
     "metadata": {},
     "output_type": "execute_result"
    }
   ],
   "source": [
    "re.findall('hit','Rohit sharma hit 6 sixes yesterday, what a man!') \n",
    "# returns a list - all matching patterns will be returned"
   ]
  },
  {
   "cell_type": "code",
   "execution_count": 29,
   "metadata": {},
   "outputs": [
    {
     "data": {
      "text/plain": [
       "['Hit', 'hit']"
      ]
     },
     "execution_count": 29,
     "metadata": {},
     "output_type": "execute_result"
    }
   ],
   "source": [
    "# return all the matching words, ignore case sensitivity\n",
    "re.findall('hit', 'roHit sharma hit 6 sixes yesterday', flags = re.I)"
   ]
  },
  {
   "cell_type": "markdown",
   "metadata": {},
   "source": [
    "Some useful flags : \n",
    "\n",
    "- re.A (ASCII-only matching)\n",
    "- re.I (ignore case)\n",
    "- re.M (multi-line)\n",
    "- re.U (Unicode matching)"
   ]
  },
  {
   "cell_type": "markdown",
   "metadata": {},
   "source": [
    "### re.split()"
   ]
  },
  {
   "cell_type": "code",
   "execution_count": 32,
   "metadata": {},
   "outputs": [
    {
     "data": {
      "text/plain": [
       "['natural', 'language', 'processing']"
      ]
     },
     "execution_count": 32,
     "metadata": {},
     "output_type": "execute_result"
    }
   ],
   "source": [
    "re.split('\\s+','natural    language processing')"
   ]
  },
  {
   "cell_type": "markdown",
   "metadata": {},
   "source": [
    "### re.sub()"
   ]
  },
  {
   "cell_type": "code",
   "execution_count": 11,
   "metadata": {},
   "outputs": [
    {
     "data": {
      "text/plain": [
       "'It was great pleasure working with you!'"
      ]
     },
     "execution_count": 11,
     "metadata": {},
     "output_type": "execute_result"
    }
   ],
   "source": [
    "re.sub('pressure', 'pleasure', \n",
    "       'It was great pressure working with you!')\n"
   ]
  },
  {
   "cell_type": "markdown",
   "metadata": {},
   "source": [
    "### re.compile()"
   ]
  },
  {
   "cell_type": "code",
   "execution_count": 12,
   "metadata": {
    "scrolled": true
   },
   "outputs": [
    {
     "name": "stdout",
     "output_type": "stream",
     "text": [
      "['hit', 'hit']\n",
      "['hit']\n"
     ]
    }
   ],
   "source": [
    "# you can combine a regular expression pattern into pattern objects to avoid rewriting the pattern.\n",
    "pattern = re.compile('hit')\n",
    "\n",
    "print(pattern.findall('Rohit Sharma hit 6 Sixes Yesterday!'))\n",
    "\n",
    "print(pattern.findall('Bahubali is a superhit film!'))"
   ]
  },
  {
   "cell_type": "markdown",
   "metadata": {},
   "source": [
    "___\n",
    "\n",
    "\n",
    "Lets practice on a sentence"
   ]
  },
  {
   "cell_type": "code",
   "execution_count": 13,
   "metadata": {},
   "outputs": [],
   "source": [
    "import nltk\n",
    "from nltk import word_tokenize"
   ]
  },
  {
   "cell_type": "code",
   "execution_count": 14,
   "metadata": {},
   "outputs": [],
   "source": [
    "raw = \"\"\"'When I'M a Duchess,' she said to herself, (not in a very hopeful tone\n",
    "    though), 'I won't have any pepper in my kitchen AT ALL. Soup does very\n",
    "    well without bread-and-butter--Maybe it's always pepper that makes people hot-tempered,dejected'...\n",
    "    Ross McFluff: 12-point 834.345 155 Elm Street golf\n",
    "    Ronald Heathmore: 892.345 3428.436 Finley Avenue\n",
    "    Frank Burger: 925.541.7625 662 South Dogwood Way\n",
    "    Heather Albrecht: 548.326.4584 919 Park Place$\"\"\""
   ]
  },
  {
   "cell_type": "code",
   "execution_count": 15,
   "metadata": {
    "scrolled": true
   },
   "outputs": [
    {
     "data": {
      "text/plain": [
       "[\"'When\",\n",
       " 'I',\n",
       " \"'M\",\n",
       " 'a',\n",
       " 'Duchess',\n",
       " ',',\n",
       " \"'\",\n",
       " 'she',\n",
       " 'said',\n",
       " 'to',\n",
       " 'herself',\n",
       " ',',\n",
       " '(',\n",
       " 'not',\n",
       " 'in',\n",
       " 'a',\n",
       " 'very',\n",
       " 'hopeful',\n",
       " 'tone',\n",
       " 'though',\n",
       " ')',\n",
       " ',',\n",
       " \"'\",\n",
       " 'I',\n",
       " 'wo',\n",
       " \"n't\",\n",
       " 'have',\n",
       " 'any',\n",
       " 'pepper',\n",
       " 'in',\n",
       " 'my',\n",
       " 'kitchen',\n",
       " 'AT',\n",
       " 'ALL',\n",
       " '.',\n",
       " 'Soup',\n",
       " 'does',\n",
       " 'very',\n",
       " 'well',\n",
       " 'without',\n",
       " 'bread-and-butter',\n",
       " '--',\n",
       " 'Maybe',\n",
       " 'it',\n",
       " \"'s\",\n",
       " 'always',\n",
       " 'pepper',\n",
       " 'that',\n",
       " 'makes',\n",
       " 'people',\n",
       " 'hot-tempered',\n",
       " ',',\n",
       " 'dejected',\n",
       " \"'\",\n",
       " '...',\n",
       " 'Ross',\n",
       " 'McFluff',\n",
       " ':',\n",
       " '12-point',\n",
       " '834.345',\n",
       " '155',\n",
       " 'Elm',\n",
       " 'Street',\n",
       " 'golf',\n",
       " 'Ronald',\n",
       " 'Heathmore',\n",
       " ':',\n",
       " '892.345',\n",
       " '3428.436',\n",
       " 'Finley',\n",
       " 'Avenue',\n",
       " 'Frank',\n",
       " 'Burger',\n",
       " ':',\n",
       " '925.541.7625',\n",
       " '662',\n",
       " 'South',\n",
       " 'Dogwood',\n",
       " 'Way',\n",
       " 'Heather',\n",
       " 'Albrecht',\n",
       " ':',\n",
       " '548.326.4584',\n",
       " '919',\n",
       " 'Park',\n",
       " 'Place',\n",
       " '$']"
      ]
     },
     "execution_count": 15,
     "metadata": {},
     "output_type": "execute_result"
    }
   ],
   "source": [
    "# Tokenize the data\n",
    "tokens = nltk.word_tokenize(raw)\n",
    "\n",
    "tokens"
   ]
  },
  {
   "cell_type": "code",
   "execution_count": 16,
   "metadata": {},
   "outputs": [],
   "source": [
    "# nltk.download('punkt')"
   ]
  },
  {
   "cell_type": "markdown",
   "metadata": {},
   "source": [
    "### Use symbols for pattern matching"
   ]
  },
  {
   "cell_type": "markdown",
   "metadata": {},
   "source": [
    "| Symbol | Match Behaviour |\n",
    "| --- | --- |\n",
    "| . | matches any character except for line breaks |\n",
    "| * | matches for 0 or more times of preceeding charcter |\n",
    "| + | matches for 1 or more times of preceeding character |\n",
    "| ? | preceeding character is optional. Matches 0 or 1 occurance |\n",
    "| \\d | matches any single digit |\n",
    "| \\D | matches anything but digit |\n",
    "| \\w | matches any word character |\n",
    "| \\W | mathches anything but word character |\n",
    "| [XYZ] | matches any single character from the list |\n",
    "| [XYZ]+ | matches one or more of characters from the list |\n",
    "| [^a-z] | matches everything but not lowercase letters |\n",
    "| $ | matches end of the string |\n",
    "| ^ | matches begining of the string |\n",
    "| \\s | matches a space, a tab, a line break |\n",
    "| \\S | anything except space |"
   ]
  },
  {
   "cell_type": "code",
   "execution_count": 17,
   "metadata": {
    "scrolled": true
   },
   "outputs": [
    {
     "data": {
      "text/plain": [
       "['natural language proce', '', 'ing']"
      ]
     },
     "execution_count": 17,
     "metadata": {},
     "output_type": "execute_result"
    }
   ],
   "source": [
    "re.split('s','natural language processing')"
   ]
  },
  {
   "cell_type": "code",
   "execution_count": 18,
   "metadata": {},
   "outputs": [
    {
     "data": {
      "text/plain": [
       "['natural', '', '', '', 'language', 'processing']"
      ]
     },
     "execution_count": 18,
     "metadata": {},
     "output_type": "execute_result"
    }
   ],
   "source": [
    "re.split('\\s', 'natural    language processing')"
   ]
  },
  {
   "cell_type": "code",
   "execution_count": 19,
   "metadata": {},
   "outputs": [
    {
     "data": {
      "text/plain": [
       "['hot-tempered', 'dejected']"
      ]
     },
     "execution_count": 19,
     "metadata": {},
     "output_type": "execute_result"
    }
   ],
   "source": [
    "# abc$ - Matches some pattern abc at the end of a string\n",
    "\n",
    "[w for w in tokens if re.search('ed$', w)]"
   ]
  },
  {
   "cell_type": "code",
   "execution_count": 20,
   "metadata": {},
   "outputs": [
    {
     "data": {
      "text/plain": [
       "['to', 'tone']"
      ]
     },
     "execution_count": 20,
     "metadata": {},
     "output_type": "execute_result"
    }
   ],
   "source": [
    "# ^abc - Matches some pattern abc at the beginning of a string\n",
    "\n",
    "[w for w in tokens if re.search('^to', w)]"
   ]
  },
  {
   "cell_type": "code",
   "execution_count": 21,
   "metadata": {},
   "outputs": [
    {
     "data": {
      "text/plain": [
       "['pepper', 'pepper']"
      ]
     },
     "execution_count": 21,
     "metadata": {},
     "output_type": "execute_result"
    }
   ],
   "source": [
    "# + - One or more of previous item\n",
    "\n",
    "[w for w in tokens if re.search('p+er$', w)]"
   ]
  },
  {
   "cell_type": "code",
   "execution_count": 43,
   "metadata": {},
   "outputs": [
    {
     "data": {
      "text/plain": [
       "['bread-and-butter', 'dejected']"
      ]
     },
     "execution_count": 43,
     "metadata": {},
     "output_type": "execute_result"
    }
   ],
   "source": [
    "# . (Wildcard) - Matches any character\n",
    "\n",
    "[w for w in tokens if re.search('t..$', w)]"
   ]
  },
  {
   "cell_type": "code",
   "execution_count": 23,
   "metadata": {},
   "outputs": [
    {
     "data": {
      "text/plain": [
       "['golf']"
      ]
     },
     "execution_count": 23,
     "metadata": {},
     "output_type": "execute_result"
    }
   ],
   "source": [
    "# The first part of the expression, ^[ghi]  matches the start of a word followed by g, h, or i. \n",
    "# The next part of the expression, [mno] constrains the second character to be m, n, or o. \n",
    "\n",
    "[w for w in tokens if re.search('^[ghi][mno][jlk][def]$', w)]"
   ]
  },
  {
   "cell_type": "code",
   "execution_count": 24,
   "metadata": {},
   "outputs": [
    {
     "data": {
      "text/plain": [
       "['925.541.7625', '548.326.4584']"
      ]
     },
     "execution_count": 24,
     "metadata": {},
     "output_type": "execute_result"
    }
   ],
   "source": [
    "# [A-Z0-9] - Matches one of a range of characters\n",
    "\n",
    "[w for w in tokens if re.search('^[0-9]+\\.[0-9]+\\.[0-9]+$', w)]"
   ]
  },
  {
   "cell_type": "code",
   "execution_count": 25,
   "metadata": {},
   "outputs": [
    {
     "data": {
      "text/plain": [
       "['I', 'I', 'AT', 'ALL']"
      ]
     },
     "execution_count": 25,
     "metadata": {},
     "output_type": "execute_result"
    }
   ],
   "source": [
    "# extract all capital words\n",
    "\n",
    "[w for w in tokens if re.search('^[A-Z]+$', w)]"
   ]
  },
  {
   "cell_type": "code",
   "execution_count": 54,
   "metadata": {},
   "outputs": [
    {
     "data": {
      "text/plain": [
       "['12-point']"
      ]
     },
     "execution_count": 54,
     "metadata": {},
     "output_type": "execute_result"
    }
   ],
   "source": [
    "# {n} - Exactly n repeats where n is a non-negative integer\n",
    "# {n,} - At least n repeats\n",
    "# {, n} - No more than n repeats\n",
    "# {m, n} - At least m and no more than n repeats\n",
    "\n",
    "\n",
    "[w for w in tokens if re.search('^[0-9]+-[a-z]{3,5}$', w)]"
   ]
  }
 ],
 "metadata": {
  "kernelspec": {
   "display_name": "Python 3",
   "language": "python",
   "name": "python3"
  },
  "language_info": {
   "codemirror_mode": {
    "name": "ipython",
    "version": 3
   },
   "file_extension": ".py",
   "mimetype": "text/x-python",
   "name": "python",
   "nbconvert_exporter": "python",
   "pygments_lexer": "ipython3",
   "version": "3.6.8"
  }
 },
 "nbformat": 4,
 "nbformat_minor": 2
}
